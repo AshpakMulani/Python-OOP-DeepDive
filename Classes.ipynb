{
 "cells": [
  {
   "cell_type": "markdown",
   "id": "floating-rendering",
   "metadata": {},
   "source": [
    "##  Objects and Classes\n"
   ]
  },
  {
   "cell_type": "markdown",
   "id": "golden-sperm",
   "metadata": {},
   "source": [
    "Keep in mind everything in pythn is \"object\" like classes, functions, data structure are object of some kind..They are object of type 'type' whihc is a kind of \"METACLASS\" fomr whihc they instanciate from... METACLASS is very deep concept and can\n",
    "be covered later."
   ]
  },
  {
   "cell_type": "code",
   "execution_count": 4,
   "id": "covered-canvas",
   "metadata": {},
   "outputs": [],
   "source": [
    "class Person:\n",
    "    pass"
   ]
  },
  {
   "cell_type": "code",
   "execution_count": 3,
   "id": "commercial-scottish",
   "metadata": {},
   "outputs": [
    {
     "data": {
      "text/plain": [
       "type"
      ]
     },
     "execution_count": 3,
     "metadata": {},
     "output_type": "execute_result"
    }
   ],
   "source": [
    "type(Person) # class is OBJECT itself of type 'type'. It is logical because if we create any new object of this class\n",
    "             # then that object should of of type 'Person' in this case."
   ]
  },
  {
   "cell_type": "code",
   "execution_count": 9,
   "id": "rotary-agency",
   "metadata": {},
   "outputs": [
    {
     "data": {
      "text/plain": [
       "'Person'"
      ]
     },
     "execution_count": 9,
     "metadata": {},
     "output_type": "execute_result"
    }
   ],
   "source": [
    "Person.__name__  # since class is object itself it has several properties/attributes like __name__"
   ]
  },
  {
   "cell_type": "code",
   "execution_count": 6,
   "id": "surface-rehabilitation",
   "metadata": {},
   "outputs": [
    {
     "data": {
      "text/plain": [
       "__main__.Person"
      ]
     },
     "execution_count": 6,
     "metadata": {},
     "output_type": "execute_result"
    }
   ],
   "source": [
    "p= Person()    # since class is object itself it support several functions as well. Here class object is callable and\n",
    "               # we can create a new instance.\n",
    "type(p)        # if we chack type of 'p' then it is of type 'Person' (remember Person is of type 'type').\n",
    "               # __main__ signifies Person is in main module (remember how we start the main() funciton using __main__???)"
   ]
  },
  {
   "cell_type": "code",
   "execution_count": 18,
   "id": "material-civilization",
   "metadata": {},
   "outputs": [
    {
     "name": "stdout",
     "output_type": "stream",
     "text": [
      "<class '__main__.Person'>\n"
     ]
    },
    {
     "data": {
      "text/plain": [
       "True"
      ]
     },
     "execution_count": 18,
     "metadata": {},
     "output_type": "execute_result"
    }
   ],
   "source": [
    "print(p.__class__) # now since p is object, it has its own attributes and methods like __class__ whihc shows name of the class\n",
    "                  # this object is instanciated from. It is like type(p).   \n",
    "type(p) == p.__class__   # it returns true"
   ]
  },
  {
   "cell_type": "code",
   "execution_count": 19,
   "id": "voluntary-mounting",
   "metadata": {},
   "outputs": [
    {
     "data": {
      "text/plain": [
       "True"
      ]
     },
     "execution_count": 19,
     "metadata": {},
     "output_type": "execute_result"
    }
   ],
   "source": [
    "isinstance(p, Person)  # Most pythonic way to cehck if variable is of type perticuler class(object underneith) then rather\n",
    "                       # than using __class__ == type use isinstance method"
   ]
  },
  {
   "cell_type": "code",
   "execution_count": 26,
   "id": "raised-house",
   "metadata": {},
   "outputs": [
    {
     "name": "stdout",
     "output_type": "stream",
     "text": [
      "True\n",
      "<class 'str'>\n",
      "<class 'type'>\n"
     ]
    }
   ],
   "source": [
    "print(isinstance(\"hell0\", str)) # same we can check for insternal data type as well like str. Since str itself is of type\n",
    "                                # type (like a class)\n",
    "print(\"hello\".__class__)\n",
    "print(type(str))"
   ]
  },
  {
   "cell_type": "code",
   "execution_count": 1,
   "id": "pediatric-thousand",
   "metadata": {},
   "outputs": [
    {
     "name": "stdout",
     "output_type": "stream",
     "text": [
      "Help on class type in module builtins:\n",
      "\n",
      "class type(object)\n",
      " |  type(object_or_name, bases, dict)\n",
      " |  type(object) -> the object's type\n",
      " |  type(name, bases, dict) -> a new type\n",
      " |  \n",
      " |  Methods defined here:\n",
      " |  \n",
      " |  __call__(self, /, *args, **kwargs)\n",
      " |      Call self as a function.\n",
      " |  \n",
      " |  __delattr__(self, name, /)\n",
      " |      Implement delattr(self, name).\n",
      " |  \n",
      " |  __dir__(self, /)\n",
      " |      Specialized __dir__ implementation for types.\n",
      " |  \n",
      " |  __getattribute__(self, name, /)\n",
      " |      Return getattr(self, name).\n",
      " |  \n",
      " |  __init__(self, /, *args, **kwargs)\n",
      " |      Initialize self.  See help(type(self)) for accurate signature.\n",
      " |  \n",
      " |  __instancecheck__(self, instance, /)\n",
      " |      Check if an object is an instance.\n",
      " |  \n",
      " |  __repr__(self, /)\n",
      " |      Return repr(self).\n",
      " |  \n",
      " |  __setattr__(self, name, value, /)\n",
      " |      Implement setattr(self, name, value).\n",
      " |  \n",
      " |  __sizeof__(self, /)\n",
      " |      Return memory consumption of the type object.\n",
      " |  \n",
      " |  __subclasscheck__(self, subclass, /)\n",
      " |      Check if a class is a subclass.\n",
      " |  \n",
      " |  __subclasses__(self, /)\n",
      " |      Return a list of immediate subclasses.\n",
      " |  \n",
      " |  mro(self, /)\n",
      " |      Return a type's method resolution order.\n",
      " |  \n",
      " |  ----------------------------------------------------------------------\n",
      " |  Class methods defined here:\n",
      " |  \n",
      " |  __prepare__(...)\n",
      " |      __prepare__() -> dict\n",
      " |      used to create the namespace for the class statement\n",
      " |  \n",
      " |  ----------------------------------------------------------------------\n",
      " |  Static methods defined here:\n",
      " |  \n",
      " |  __new__(*args, **kwargs)\n",
      " |      Create and return a new object.  See help(type) for accurate signature.\n",
      " |  \n",
      " |  ----------------------------------------------------------------------\n",
      " |  Data descriptors defined here:\n",
      " |  \n",
      " |  __abstractmethods__\n",
      " |  \n",
      " |  __dict__\n",
      " |  \n",
      " |  __text_signature__\n",
      " |  \n",
      " |  ----------------------------------------------------------------------\n",
      " |  Data and other attributes defined here:\n",
      " |  \n",
      " |  __base__ = <class 'object'>\n",
      " |      The base class of the class hierarchy.\n",
      " |      \n",
      " |      When called, it accepts no arguments and returns a new featureless\n",
      " |      instance that has no instance attributes and cannot be given any.\n",
      " |  \n",
      " |  \n",
      " |  __bases__ = (<class 'object'>,)\n",
      " |  \n",
      " |  __basicsize__ = 880\n",
      " |  \n",
      " |  __dictoffset__ = 264\n",
      " |  \n",
      " |  __flags__ = 2148293632\n",
      " |  \n",
      " |  __itemsize__ = 40\n",
      " |  \n",
      " |  __mro__ = (<class 'type'>, <class 'object'>)\n",
      " |  \n",
      " |  __weakrefoffset__ = 368\n",
      "\n",
      "Help on class str in module builtins:\n",
      "\n",
      "class str(object)\n",
      " |  str(object='') -> str\n",
      " |  str(bytes_or_buffer[, encoding[, errors]]) -> str\n",
      " |  \n",
      " |  Create a new string object from the given object. If encoding or\n",
      " |  errors is specified, then the object must expose a data buffer\n",
      " |  that will be decoded using the given encoding and error handler.\n",
      " |  Otherwise, returns the result of object.__str__() (if defined)\n",
      " |  or repr(object).\n",
      " |  encoding defaults to sys.getdefaultencoding().\n",
      " |  errors defaults to 'strict'.\n",
      " |  \n",
      " |  Methods defined here:\n",
      " |  \n",
      " |  __add__(self, value, /)\n",
      " |      Return self+value.\n",
      " |  \n",
      " |  __contains__(self, key, /)\n",
      " |      Return key in self.\n",
      " |  \n",
      " |  __eq__(self, value, /)\n",
      " |      Return self==value.\n",
      " |  \n",
      " |  __format__(self, format_spec, /)\n",
      " |      Return a formatted version of the string as described by format_spec.\n",
      " |  \n",
      " |  __ge__(self, value, /)\n",
      " |      Return self>=value.\n",
      " |  \n",
      " |  __getattribute__(self, name, /)\n",
      " |      Return getattr(self, name).\n",
      " |  \n",
      " |  __getitem__(self, key, /)\n",
      " |      Return self[key].\n",
      " |  \n",
      " |  __getnewargs__(...)\n",
      " |  \n",
      " |  __gt__(self, value, /)\n",
      " |      Return self>value.\n",
      " |  \n",
      " |  __hash__(self, /)\n",
      " |      Return hash(self).\n",
      " |  \n",
      " |  __iter__(self, /)\n",
      " |      Implement iter(self).\n",
      " |  \n",
      " |  __le__(self, value, /)\n",
      " |      Return self<=value.\n",
      " |  \n",
      " |  __len__(self, /)\n",
      " |      Return len(self).\n",
      " |  \n",
      " |  __lt__(self, value, /)\n",
      " |      Return self<value.\n",
      " |  \n",
      " |  __mod__(self, value, /)\n",
      " |      Return self%value.\n",
      " |  \n",
      " |  __mul__(self, value, /)\n",
      " |      Return self*value.\n",
      " |  \n",
      " |  __ne__(self, value, /)\n",
      " |      Return self!=value.\n",
      " |  \n",
      " |  __repr__(self, /)\n",
      " |      Return repr(self).\n",
      " |  \n",
      " |  __rmod__(self, value, /)\n",
      " |      Return value%self.\n",
      " |  \n",
      " |  __rmul__(self, value, /)\n",
      " |      Return value*self.\n",
      " |  \n",
      " |  __sizeof__(self, /)\n",
      " |      Return the size of the string in memory, in bytes.\n",
      " |  \n",
      " |  __str__(self, /)\n",
      " |      Return str(self).\n",
      " |  \n",
      " |  capitalize(self, /)\n",
      " |      Return a capitalized version of the string.\n",
      " |      \n",
      " |      More specifically, make the first character have upper case and the rest lower\n",
      " |      case.\n",
      " |  \n",
      " |  casefold(self, /)\n",
      " |      Return a version of the string suitable for caseless comparisons.\n",
      " |  \n",
      " |  center(self, width, fillchar=' ', /)\n",
      " |      Return a centered string of length width.\n",
      " |      \n",
      " |      Padding is done using the specified fill character (default is a space).\n",
      " |  \n",
      " |  count(...)\n",
      " |      S.count(sub[, start[, end]]) -> int\n",
      " |      \n",
      " |      Return the number of non-overlapping occurrences of substring sub in\n",
      " |      string S[start:end].  Optional arguments start and end are\n",
      " |      interpreted as in slice notation.\n",
      " |  \n",
      " |  encode(self, /, encoding='utf-8', errors='strict')\n",
      " |      Encode the string using the codec registered for encoding.\n",
      " |      \n",
      " |      encoding\n",
      " |        The encoding in which to encode the string.\n",
      " |      errors\n",
      " |        The error handling scheme to use for encoding errors.\n",
      " |        The default is 'strict' meaning that encoding errors raise a\n",
      " |        UnicodeEncodeError.  Other possible values are 'ignore', 'replace' and\n",
      " |        'xmlcharrefreplace' as well as any other name registered with\n",
      " |        codecs.register_error that can handle UnicodeEncodeErrors.\n",
      " |  \n",
      " |  endswith(...)\n",
      " |      S.endswith(suffix[, start[, end]]) -> bool\n",
      " |      \n",
      " |      Return True if S ends with the specified suffix, False otherwise.\n",
      " |      With optional start, test S beginning at that position.\n",
      " |      With optional end, stop comparing S at that position.\n",
      " |      suffix can also be a tuple of strings to try.\n",
      " |  \n",
      " |  expandtabs(self, /, tabsize=8)\n",
      " |      Return a copy where all tab characters are expanded using spaces.\n",
      " |      \n",
      " |      If tabsize is not given, a tab size of 8 characters is assumed.\n",
      " |  \n",
      " |  find(...)\n",
      " |      S.find(sub[, start[, end]]) -> int\n",
      " |      \n",
      " |      Return the lowest index in S where substring sub is found,\n",
      " |      such that sub is contained within S[start:end].  Optional\n",
      " |      arguments start and end are interpreted as in slice notation.\n",
      " |      \n",
      " |      Return -1 on failure.\n",
      " |  \n",
      " |  format(...)\n",
      " |      S.format(*args, **kwargs) -> str\n",
      " |      \n",
      " |      Return a formatted version of S, using substitutions from args and kwargs.\n",
      " |      The substitutions are identified by braces ('{' and '}').\n",
      " |  \n",
      " |  format_map(...)\n",
      " |      S.format_map(mapping) -> str\n",
      " |      \n",
      " |      Return a formatted version of S, using substitutions from mapping.\n",
      " |      The substitutions are identified by braces ('{' and '}').\n",
      " |  \n",
      " |  index(...)\n",
      " |      S.index(sub[, start[, end]]) -> int\n",
      " |      \n",
      " |      Return the lowest index in S where substring sub is found,\n",
      " |      such that sub is contained within S[start:end].  Optional\n",
      " |      arguments start and end are interpreted as in slice notation.\n",
      " |      \n",
      " |      Raises ValueError when the substring is not found.\n",
      " |  \n",
      " |  isalnum(self, /)\n",
      " |      Return True if the string is an alpha-numeric string, False otherwise.\n",
      " |      \n",
      " |      A string is alpha-numeric if all characters in the string are alpha-numeric and\n",
      " |      there is at least one character in the string.\n",
      " |  \n",
      " |  isalpha(self, /)\n",
      " |      Return True if the string is an alphabetic string, False otherwise.\n",
      " |      \n",
      " |      A string is alphabetic if all characters in the string are alphabetic and there\n",
      " |      is at least one character in the string.\n",
      " |  \n",
      " |  isascii(self, /)\n",
      " |      Return True if all characters in the string are ASCII, False otherwise.\n",
      " |      \n",
      " |      ASCII characters have code points in the range U+0000-U+007F.\n",
      " |      Empty string is ASCII too.\n",
      " |  \n",
      " |  isdecimal(self, /)\n",
      " |      Return True if the string is a decimal string, False otherwise.\n",
      " |      \n",
      " |      A string is a decimal string if all characters in the string are decimal and\n",
      " |      there is at least one character in the string.\n",
      " |  \n",
      " |  isdigit(self, /)\n",
      " |      Return True if the string is a digit string, False otherwise.\n",
      " |      \n",
      " |      A string is a digit string if all characters in the string are digits and there\n",
      " |      is at least one character in the string.\n",
      " |  \n",
      " |  isidentifier(self, /)\n",
      " |      Return True if the string is a valid Python identifier, False otherwise.\n",
      " |      \n",
      " |      Call keyword.iskeyword(s) to test whether string s is a reserved identifier,\n",
      " |      such as \"def\" or \"class\".\n",
      " |  \n",
      " |  islower(self, /)\n",
      " |      Return True if the string is a lowercase string, False otherwise.\n",
      " |      \n",
      " |      A string is lowercase if all cased characters in the string are lowercase and\n",
      " |      there is at least one cased character in the string.\n",
      " |  \n",
      " |  isnumeric(self, /)\n",
      " |      Return True if the string is a numeric string, False otherwise.\n",
      " |      \n",
      " |      A string is numeric if all characters in the string are numeric and there is at\n",
      " |      least one character in the string.\n",
      " |  \n",
      " |  isprintable(self, /)\n",
      " |      Return True if the string is printable, False otherwise.\n",
      " |      \n",
      " |      A string is printable if all of its characters are considered printable in\n",
      " |      repr() or if it is empty.\n",
      " |  \n",
      " |  isspace(self, /)\n",
      " |      Return True if the string is a whitespace string, False otherwise.\n",
      " |      \n",
      " |      A string is whitespace if all characters in the string are whitespace and there\n",
      " |      is at least one character in the string.\n",
      " |  \n",
      " |  istitle(self, /)\n",
      " |      Return True if the string is a title-cased string, False otherwise.\n",
      " |      \n",
      " |      In a title-cased string, upper- and title-case characters may only\n",
      " |      follow uncased characters and lowercase characters only cased ones.\n",
      " |  \n",
      " |  isupper(self, /)\n",
      " |      Return True if the string is an uppercase string, False otherwise.\n",
      " |      \n",
      " |      A string is uppercase if all cased characters in the string are uppercase and\n",
      " |      there is at least one cased character in the string.\n",
      " |  \n",
      " |  join(self, iterable, /)\n",
      " |      Concatenate any number of strings.\n",
      " |      \n",
      " |      The string whose method is called is inserted in between each given string.\n",
      " |      The result is returned as a new string.\n",
      " |      \n",
      " |      Example: '.'.join(['ab', 'pq', 'rs']) -> 'ab.pq.rs'\n",
      " |  \n",
      " |  ljust(self, width, fillchar=' ', /)\n",
      " |      Return a left-justified string of length width.\n",
      " |      \n",
      " |      Padding is done using the specified fill character (default is a space).\n",
      " |  \n",
      " |  lower(self, /)\n",
      " |      Return a copy of the string converted to lowercase.\n",
      " |  \n",
      " |  lstrip(self, chars=None, /)\n",
      " |      Return a copy of the string with leading whitespace removed.\n",
      " |      \n",
      " |      If chars is given and not None, remove characters in chars instead.\n",
      " |  \n",
      " |  partition(self, sep, /)\n",
      " |      Partition the string into three parts using the given separator.\n",
      " |      \n",
      " |      This will search for the separator in the string.  If the separator is found,\n",
      " |      returns a 3-tuple containing the part before the separator, the separator\n",
      " |      itself, and the part after it.\n",
      " |      \n",
      " |      If the separator is not found, returns a 3-tuple containing the original string\n",
      " |      and two empty strings.\n",
      " |  \n",
      " |  removeprefix(self, prefix, /)\n",
      " |      Return a str with the given prefix string removed if present.\n",
      " |      \n",
      " |      If the string starts with the prefix string, return string[len(prefix):].\n",
      " |      Otherwise, return a copy of the original string.\n",
      " |  \n",
      " |  removesuffix(self, suffix, /)\n",
      " |      Return a str with the given suffix string removed if present.\n",
      " |      \n",
      " |      If the string ends with the suffix string and that suffix is not empty,\n",
      " |      return string[:-len(suffix)]. Otherwise, return a copy of the original\n",
      " |      string.\n",
      " |  \n",
      " |  replace(self, old, new, count=-1, /)\n",
      " |      Return a copy with all occurrences of substring old replaced by new.\n",
      " |      \n",
      " |        count\n",
      " |          Maximum number of occurrences to replace.\n",
      " |          -1 (the default value) means replace all occurrences.\n",
      " |      \n",
      " |      If the optional argument count is given, only the first count occurrences are\n",
      " |      replaced.\n",
      " |  \n",
      " |  rfind(...)\n",
      " |      S.rfind(sub[, start[, end]]) -> int\n",
      " |      \n",
      " |      Return the highest index in S where substring sub is found,\n",
      " |      such that sub is contained within S[start:end].  Optional\n",
      " |      arguments start and end are interpreted as in slice notation.\n",
      " |      \n",
      " |      Return -1 on failure.\n",
      " |  \n",
      " |  rindex(...)\n",
      " |      S.rindex(sub[, start[, end]]) -> int\n",
      " |      \n",
      " |      Return the highest index in S where substring sub is found,\n",
      " |      such that sub is contained within S[start:end].  Optional\n",
      " |      arguments start and end are interpreted as in slice notation.\n",
      " |      \n",
      " |      Raises ValueError when the substring is not found.\n",
      " |  \n",
      " |  rjust(self, width, fillchar=' ', /)\n",
      " |      Return a right-justified string of length width.\n",
      " |      \n",
      " |      Padding is done using the specified fill character (default is a space).\n",
      " |  \n",
      " |  rpartition(self, sep, /)\n",
      " |      Partition the string into three parts using the given separator.\n",
      " |      \n",
      " |      This will search for the separator in the string, starting at the end. If\n",
      " |      the separator is found, returns a 3-tuple containing the part before the\n",
      " |      separator, the separator itself, and the part after it.\n",
      " |      \n",
      " |      If the separator is not found, returns a 3-tuple containing two empty strings\n",
      " |      and the original string.\n",
      " |  \n",
      " |  rsplit(self, /, sep=None, maxsplit=-1)\n",
      " |      Return a list of the words in the string, using sep as the delimiter string.\n",
      " |      \n",
      " |        sep\n",
      " |          The delimiter according which to split the string.\n",
      " |          None (the default value) means split according to any whitespace,\n",
      " |          and discard empty strings from the result.\n",
      " |        maxsplit\n",
      " |          Maximum number of splits to do.\n",
      " |          -1 (the default value) means no limit.\n",
      " |      \n",
      " |      Splits are done starting at the end of the string and working to the front.\n",
      " |  \n",
      " |  rstrip(self, chars=None, /)\n",
      " |      Return a copy of the string with trailing whitespace removed.\n",
      " |      \n",
      " |      If chars is given and not None, remove characters in chars instead.\n",
      " |  \n",
      " |  split(self, /, sep=None, maxsplit=-1)\n",
      " |      Return a list of the words in the string, using sep as the delimiter string.\n",
      " |      \n",
      " |      sep\n",
      " |        The delimiter according which to split the string.\n",
      " |        None (the default value) means split according to any whitespace,\n",
      " |        and discard empty strings from the result.\n",
      " |      maxsplit\n",
      " |        Maximum number of splits to do.\n",
      " |        -1 (the default value) means no limit.\n",
      " |  \n",
      " |  splitlines(self, /, keepends=False)\n",
      " |      Return a list of the lines in the string, breaking at line boundaries.\n",
      " |      \n",
      " |      Line breaks are not included in the resulting list unless keepends is given and\n",
      " |      true.\n",
      " |  \n",
      " |  startswith(...)\n",
      " |      S.startswith(prefix[, start[, end]]) -> bool\n",
      " |      \n",
      " |      Return True if S starts with the specified prefix, False otherwise.\n",
      " |      With optional start, test S beginning at that position.\n",
      " |      With optional end, stop comparing S at that position.\n",
      " |      prefix can also be a tuple of strings to try.\n",
      " |  \n",
      " |  strip(self, chars=None, /)\n",
      " |      Return a copy of the string with leading and trailing whitespace removed.\n",
      " |      \n",
      " |      If chars is given and not None, remove characters in chars instead.\n",
      " |  \n",
      " |  swapcase(self, /)\n",
      " |      Convert uppercase characters to lowercase and lowercase characters to uppercase.\n",
      " |  \n",
      " |  title(self, /)\n",
      " |      Return a version of the string where each word is titlecased.\n",
      " |      \n",
      " |      More specifically, words start with uppercased characters and all remaining\n",
      " |      cased characters have lower case.\n",
      " |  \n",
      " |  translate(self, table, /)\n",
      " |      Replace each character in the string using the given translation table.\n",
      " |      \n",
      " |        table\n",
      " |          Translation table, which must be a mapping of Unicode ordinals to\n",
      " |          Unicode ordinals, strings, or None.\n",
      " |      \n",
      " |      The table must implement lookup/indexing via __getitem__, for instance a\n",
      " |      dictionary or list.  If this operation raises LookupError, the character is\n",
      " |      left untouched.  Characters mapped to None are deleted.\n",
      " |  \n",
      " |  upper(self, /)\n",
      " |      Return a copy of the string converted to uppercase.\n",
      " |  \n",
      " |  zfill(self, width, /)\n",
      " |      Pad a numeric string with zeros on the left, to fill a field of the given width.\n",
      " |      \n",
      " |      The string is never truncated.\n",
      " |  \n",
      " |  ----------------------------------------------------------------------\n",
      " |  Static methods defined here:\n",
      " |  \n",
      " |  __new__(*args, **kwargs) from builtins.type\n",
      " |      Create and return a new object.  See help(type) for accurate signature.\n",
      " |  \n",
      " |  maketrans(...)\n",
      " |      Return a translation table usable for str.translate().\n",
      " |      \n",
      " |      If there is only one argument, it must be a dictionary mapping Unicode\n",
      " |      ordinals (integers) or characters to Unicode ordinals, strings or None.\n",
      " |      Character keys will be then converted to ordinals.\n",
      " |      If there are two arguments, they must be strings of equal length, and\n",
      " |      in the resulting dictionary, each character in x will be mapped to the\n",
      " |      character at the same position in y. If there is a third argument, it\n",
      " |      must be a string, whose characters will be mapped to None in the result.\n",
      "\n"
     ]
    }
   ],
   "source": [
    "help(type)  # we can get help in python using 'help' function. Here if we check what all properties and functions are supported\n",
    "            # by type 'type' then we ger the following.\n",
    "help(str)   # get help on object of type str"
   ]
  },
  {
   "cell_type": "markdown",
   "id": "suspended-ballot",
   "metadata": {},
   "source": [
    "\n",
    "\n",
    "\n",
    "## Attributes in class"
   ]
  },
  {
   "cell_type": "code",
   "execution_count": 35,
   "id": "dense-steal",
   "metadata": {},
   "outputs": [],
   "source": [
    "class Person:  # defining a class with few attributes. Keep in mind here we are only looking a class dirrectely (which is object\n",
    "               #  in itself)\n",
    "    name = \"ashpak\"\n",
    "    age  = 30"
   ]
  },
  {
   "cell_type": "code",
   "execution_count": 36,
   "id": "prospective-nashville",
   "metadata": {},
   "outputs": [
    {
     "data": {
      "text/plain": [
       "'ashpak'"
      ]
     },
     "execution_count": 36,
     "metadata": {},
     "output_type": "execute_result"
    }
   ],
   "source": [
    "Person.name    # diretely accessing attributes of the class (it's not about class instance we create after inistiating)"
   ]
  },
  {
   "cell_type": "code",
   "execution_count": 42,
   "id": "framed-herald",
   "metadata": {},
   "outputs": [
    {
     "name": "stdout",
     "output_type": "stream",
     "text": [
      "Age : 40\n",
      "Laguage :  ['English', 'Hindi', 'Marathi']\n"
     ]
    }
   ],
   "source": [
    "Person.age = 40    # We can directely update attributes in a class directely.\n",
    "Person.language = ['English','Hindi','Marathi'] # since python is dynamic language we can drectely add new call attribute \n",
    "                                                # without it defining inside class first.\n",
    "print(f\"Age : {Person.age}\")\n",
    "print(f\"Laguage :  {Person.language}\")"
   ]
  },
  {
   "cell_type": "code",
   "execution_count": 43,
   "id": "authorized-estate",
   "metadata": {
    "scrolled": true
   },
   "outputs": [
    {
     "ename": "AttributeError",
     "evalue": "type object 'Person' has no attribute 'primary_language'",
     "output_type": "error",
     "traceback": [
      "\u001b[1;31m---------------------------------------------------------------------------\u001b[0m",
      "\u001b[1;31mAttributeError\u001b[0m                            Traceback (most recent call last)",
      "\u001b[1;32m<ipython-input-43-1575769f36ea>\u001b[0m in \u001b[0;36m<module>\u001b[1;34m\u001b[0m\n\u001b[1;32m----> 1\u001b[1;33m \u001b[0mPerson\u001b[0m\u001b[1;33m.\u001b[0m\u001b[0mprimary_language\u001b[0m\u001b[1;33m\u001b[0m\u001b[1;33m\u001b[0m\u001b[0m\n\u001b[0m",
      "\u001b[1;31mAttributeError\u001b[0m: type object 'Person' has no attribute 'primary_language'"
     ]
    }
   ],
   "source": [
    "Person.primary_language  # if we directely access no existing attribute in class the it throws below error"
   ]
  },
  {
   "cell_type": "code",
   "execution_count": 47,
   "id": "vanilla-region",
   "metadata": {},
   "outputs": [
    {
     "data": {
      "text/plain": [
       "'default_value'"
      ]
     },
     "execution_count": 47,
     "metadata": {},
     "output_type": "execute_result"
    }
   ],
   "source": [
    "getattr(Person, 'primary_language', \"default_value\")  # to avoide no attribute error, we can use 'getattr' function which allow us to\n",
    "                                        # specify default value as well if specify attribute does not exist on a class"
   ]
  },
  {
   "cell_type": "code",
   "execution_count": 49,
   "id": "creative-paragraph",
   "metadata": {},
   "outputs": [
    {
     "data": {
      "text/plain": [
       "mappingproxy({'__module__': '__main__',\n",
       "              'name': 'ashpak',\n",
       "              'age': 40,\n",
       "              '__dict__': <attribute '__dict__' of 'Person' objects>,\n",
       "              '__weakref__': <attribute '__weakref__' of 'Person' objects>,\n",
       "              '__doc__': None,\n",
       "              'language': ['English', 'Hindi', 'Marathi']})"
      ]
     },
     "execution_count": 49,
     "metadata": {},
     "output_type": "execute_result"
    }
   ],
   "source": [
    "Person.__dict__    # class state is stored in a dict and can be accessed by __dict__ attribute. Note that not all the details\n",
    "                   # are stored in __dict__peoperty Ex. __name__ is not stored there."
   ]
  },
  {
   "cell_type": "code",
   "execution_count": 62,
   "id": "prepared-equality",
   "metadata": {},
   "outputs": [
    {
     "data": {
      "text/plain": [
       "'hindi'"
      ]
     },
     "execution_count": 62,
     "metadata": {},
     "output_type": "execute_result"
    }
   ],
   "source": [
    "setattr(Person,'primary_language', 'hindi') # we can set the value of attribute using . attribute or we can use setattr as well\n",
    "getattr(Person, 'primary_language', \"default_value\")"
   ]
  },
  {
   "cell_type": "code",
   "execution_count": 63,
   "id": "silver-assessment",
   "metadata": {},
   "outputs": [
    {
     "data": {
      "text/plain": [
       "'hindi'"
      ]
     },
     "execution_count": 63,
     "metadata": {},
     "output_type": "execute_result"
    }
   ],
   "source": [
    "Person.__dict__['primary_language']  # since class object state is stored as dict we can access its attributes or properties\n",
    "                                     # like we access dict keys. Its not a pythonic way and not recommended"
   ]
  },
  {
   "cell_type": "code",
   "execution_count": 60,
   "id": "pharmaceutical-health",
   "metadata": {},
   "outputs": [],
   "source": [
    "delattr(Person,'primary_language')  # from the state dictionary of class (object) we can delete the attribute using this command\n",
    "                                    # we can also use \"del Person.primary_language\" for the same thing."
   ]
  },
  {
   "cell_type": "code",
   "execution_count": 70,
   "id": "adapted-quest",
   "metadata": {},
   "outputs": [
    {
     "name": "stdout",
     "output_type": "stream",
     "text": [
      "hello fooemp\n",
      "hello fooemp\n",
      "hello fooemp\n"
     ]
    },
    {
     "data": {
      "text/plain": [
       "[None, None, None]"
      ]
     },
     "execution_count": 70,
     "metadata": {},
     "output_type": "execute_result"
    }
   ],
   "source": [
    "class Employee:\n",
    "    name = 'fooemp'\n",
    "    \n",
    "    def sayhello():               # Note here functions in a class is also its one of the attribute like 'name'\n",
    "        print(f\"hello {Employee.name}\")\n",
    "        \n",
    "# we can call functions from the class as we are getting a normal attribute using any of the method show below\n",
    "[Employee.sayhello(), Employee.__dict__['sayhello'](), getattr(Employee, 'sayhello')()]   "
   ]
  },
  {
   "cell_type": "code",
   "execution_count": 71,
   "id": "tender-angola",
   "metadata": {},
   "outputs": [
    {
     "data": {
      "text/plain": [
       "(function, str)"
      ]
     },
     "execution_count": 71,
     "metadata": {},
     "output_type": "execute_result"
    }
   ],
   "source": [
    "# only difference between normal property and function property in a class is function property is callable function\n",
    "type(getattr(Employee, 'sayhello')) , type(getattr(Employee, 'name')) "
   ]
  },
  {
   "cell_type": "code",
   "execution_count": 72,
   "id": "intellectual-geography",
   "metadata": {},
   "outputs": [
    {
     "data": {
      "text/plain": [
       "mappingproxy({'__module__': '__main__',\n",
       "              'name': 'fooemp',\n",
       "              'sayhello': <function __main__.Employee.sayhello()>,\n",
       "              '__dict__': <attribute '__dict__' of 'Employee' objects>,\n",
       "              '__weakref__': <attribute '__weakref__' of 'Employee' objects>,\n",
       "              '__doc__': None})"
      ]
     },
     "execution_count": 72,
     "metadata": {},
     "output_type": "execute_result"
    }
   ],
   "source": [
    "Employee.__dict__   # just notice how function is like a normal attribute in class object state like name,\n",
    "                    # only diff is its a callable function"
   ]
  },
  {
   "cell_type": "markdown",
   "id": "coral-attraction",
   "metadata": {},
   "source": [
    "## classes are callable"
   ]
  },
  {
   "cell_type": "code",
   "execution_count": 78,
   "id": "unlike-cancer",
   "metadata": {},
   "outputs": [
    {
     "data": {
      "text/plain": [
       "True"
      ]
     },
     "execution_count": 78,
     "metadata": {},
     "output_type": "execute_result"
    }
   ],
   "source": [
    "e = Employee()     # we can call the class and create a instance. now 'e' is instance of a class 'Employee'\n",
    "\n",
    "isinstance(e, Employee)  # check if 'e' is istance of 'Employee' class"
   ]
  },
  {
   "cell_type": "code",
   "execution_count": 76,
   "id": "saving-gospel",
   "metadata": {},
   "outputs": [
    {
     "data": {
      "text/plain": [
       "{}"
      ]
     },
     "execution_count": 76,
     "metadata": {},
     "output_type": "execute_result"
    }
   ],
   "source": [
    "e.__dict__         # class instance has a seperate namespace than class. If you see this 'e' namespace is empty, but \n",
    "                   # Employee namespace have mltiple things"
   ]
  },
  {
   "cell_type": "code",
   "execution_count": 79,
   "id": "particular-kentucky",
   "metadata": {},
   "outputs": [
    {
     "data": {
      "text/plain": [
       "__main__.Employee"
      ]
     },
     "execution_count": 79,
     "metadata": {},
     "output_type": "execute_result"
    }
   ],
   "source": [
    "e.__class__   # Note that __dict__ doesnt always stores all the properties of an object. Even if e.__dict is empty it still\n",
    "              # has other properties like __class__ which comes from other places"
   ]
  },
  {
   "cell_type": "code",
   "execution_count": 80,
   "id": "exclusive-checkout",
   "metadata": {},
   "outputs": [
    {
     "data": {
      "text/plain": [
       "(__main__.Employee, __main__.Employee)"
      ]
     },
     "execution_count": 80,
     "metadata": {},
     "output_type": "execute_result"
    }
   ],
   "source": [
    "type(e), e.__class__   # they both are same, but using type(e) is recommended because it is possible to update __class__\n",
    "                       # property of any object as shown in next example"
   ]
  },
  {
   "cell_type": "code",
   "execution_count": 2,
   "id": "seventh-mexico",
   "metadata": {},
   "outputs": [
    {
     "data": {
      "text/plain": [
       "__main__.MyClass"
      ]
     },
     "execution_count": 2,
     "metadata": {},
     "output_type": "execute_result"
    }
   ],
   "source": [
    "class MyClass:\n",
    "    __class__ = str\n",
    "    \n",
    "m = MyClass()\n",
    "\n",
    "m.__class__   # here you see __class__ can e updated hence dont rely on __class__ property to know type of a class object\n",
    "              # always use type(e). \n",
    "type(m)       # always gives correct parent class\n"
   ]
  },
  {
   "cell_type": "code",
   "execution_count": 86,
   "id": "short-association",
   "metadata": {},
   "outputs": [
    {
     "data": {
      "text/plain": [
       "(True, True, False)"
      ]
     },
     "execution_count": 86,
     "metadata": {},
     "output_type": "execute_result"
    }
   ],
   "source": [
    "# previous step falls into catogery of metaclass programming where we changed default type of a class. If we check 'isinstance'\n",
    "# now, it is instance of a  MyClass as well as 'str' because __class__ is returning 'str'\n",
    "\n",
    "isinstance(m, MyClass), isinstance(m, str), isinstance(m, int)"
   ]
  },
  {
   "cell_type": "markdown",
   "id": "fifth-senate",
   "metadata": {},
   "source": [
    "## Data Attributes in objects vs class"
   ]
  },
  {
   "cell_type": "code",
   "execution_count": 92,
   "id": "statutory-territory",
   "metadata": {},
   "outputs": [
    {
     "data": {
      "text/plain": [
       "('dummy_val', 'new_dummy_val', 'dummy_val')"
      ]
     },
     "execution_count": 92,
     "metadata": {},
     "output_type": "execute_result"
    }
   ],
   "source": [
    "class DummyClass:\n",
    "        dummy_class_attr = \"dummy_val\"\n",
    "        \n",
    "dc = DummyClass()\n",
    "dc1 = DummyClass()\n",
    "\n",
    "dc1.dummy_class_attr =  \"new_dummy_val\"\n",
    "\n",
    "# notice here object namespace dict and class namespace dict are different, both contain different value for dummy_class_attr\n",
    "# each new class instance object will have its own set of namespace dict. \n",
    "#   - 'dc' gets 'dummy_class_attr' value from class namespace because its own namespace doesnt have dummy_class_attr\n",
    "#   - 'dc1' gets 'dummy_class_attr' value from its own namespace because its own namespace have dummy_class_attr\n",
    "# so python first looks for attributes in the instance namespace and if it doesnt find it then it looks it into class namespace\n",
    "dc.dummy_class_attr, dc1.dummy_class_attr, DummyClass.dummy_class_attr  "
   ]
  },
  {
   "cell_type": "code",
   "execution_count": 105,
   "id": "periodic-translator",
   "metadata": {},
   "outputs": [
    {
     "name": "stdout",
     "output_type": "stream",
     "text": [
      "hello\n"
     ]
    },
    {
     "ename": "TypeError",
     "evalue": "test() takes 0 positional arguments but 1 was given",
     "output_type": "error",
     "traceback": [
      "\u001b[1;31m---------------------------------------------------------------------------\u001b[0m",
      "\u001b[1;31mTypeError\u001b[0m                                 Traceback (most recent call last)",
      "\u001b[1;32m<ipython-input-105-e89441886d62>\u001b[0m in \u001b[0;36m<module>\u001b[1;34m\u001b[0m\n\u001b[0;32m     16\u001b[0m \u001b[1;33m\u001b[0m\u001b[0m\n\u001b[0;32m     17\u001b[0m \u001b[0mSampleClass\u001b[0m\u001b[1;33m.\u001b[0m\u001b[0mtest\u001b[0m\u001b[1;33m(\u001b[0m\u001b[1;33m)\u001b[0m   \u001b[1;31m# this works\u001b[0m\u001b[1;33m\u001b[0m\u001b[1;33m\u001b[0m\u001b[0m\n\u001b[1;32m---> 18\u001b[1;33m \u001b[0msc\u001b[0m\u001b[1;33m.\u001b[0m\u001b[0mtest\u001b[0m\u001b[1;33m(\u001b[0m\u001b[1;33m)\u001b[0m  \u001b[1;31m# this doesnt work\u001b[0m\u001b[1;33m\u001b[0m\u001b[1;33m\u001b[0m\u001b[0m\n\u001b[0m\u001b[0;32m     19\u001b[0m \u001b[1;33m\u001b[0m\u001b[0m\n",
      "\u001b[1;31mTypeError\u001b[0m: test() takes 0 positional arguments but 1 was given"
     ]
    }
   ],
   "source": [
    "class SampleClass:\n",
    "        \n",
    "    def test():\n",
    "        print(\"hello\")\n",
    "        \n",
    "        \n",
    "sc = SampleClass()\n",
    "\n",
    "# this is very important thing now. we see that if we create a class instance and refer to a class function then it is treated\n",
    "# as \"method\". If we directely refer to function inside class through class itself then it is treated as \"function\"\n",
    "\n",
    "type(sc.test), type(SampleClass.test)  #--> output (method, function)\n",
    "\n",
    "# So difference between \"method\" and \"function\" is, method is some callable function whihc is referred by a class instance\n",
    "# function is a normal callable thing, but method is not directely callable hence it is referred by some class instance\n",
    "\n",
    "SampleClass.test()   # this works\n",
    "sc.test()  # this doesnt work because it is a method referenced by a class instance, and method in python need 'self' as first arg\n",
    "\n"
   ]
  },
  {
   "cell_type": "code",
   "execution_count": 111,
   "id": "descending-pantyhose",
   "metadata": {},
   "outputs": [
    {
     "name": "stdout",
     "output_type": "stream",
     "text": [
      "hello, ashpak\n",
      "hello, no user\n"
     ]
    }
   ],
   "source": [
    "# while calling method in python (not a function), it automatically passes reference of a class instance whihc that method\n",
    "# is attached to as a first argument...remember 'self'??  \n",
    "# Here 'sc' is passed as input while calling 'test' method. So whatever attrobutes are present in 'sc' namespace dict\n",
    "# re not available inside test function using 'self' input variable.\n",
    "\n",
    "\n",
    "class SampleClass:\n",
    "        \n",
    "    # def test(*args)  this can be used to mention that arguments can be no or many if we dont need to explicitely\n",
    "                       # lock number of arguments\n",
    "    def test(self):\n",
    "        print(f\"hello, {getattr(self,'username', 'no user')}\") # using getattr rather than self.attr to avoide errors\n",
    "        \n",
    "        \n",
    "sc = SampleClass()\n",
    "setattr(sc, 'username', 'ashpak')\n",
    "\n",
    "sc.test()  # here 'sc' is passed as input to test \"method\" automatically by python, so whatever attributes are in 'sc'\n",
    "            # they can be accessed inside the test() function using 'self'\n",
    "\n",
    "SampleClass.test(None)  # here since test \"function\" is called using class directely python wont be automatically passing \n",
    "                        # any class instance thats the reason explicitely passing None as input because 'test' function \n",
    "                        # is expecting one input as class instance \n",
    "\n",
    "\n",
    "\n"
   ]
  },
  {
   "cell_type": "code",
   "execution_count": 113,
   "id": "strong-louisiana",
   "metadata": {},
   "outputs": [
    {
     "data": {
      "text/plain": [
       "{'name': 'Ashpak'}"
      ]
     },
     "execution_count": 113,
     "metadata": {},
     "output_type": "execute_result"
    }
   ],
   "source": [
    "class TestClass:\n",
    "    \n",
    "    def test(self, name):\n",
    "        self.name = name  # instance object is passed in self and we are setting attribute passed by instance when calling\n",
    "                        # the method to new attribute in that instance \n",
    "        \n",
    "tc= TestClass()\n",
    "\n",
    "tc.test(\"Ashpak\")\n",
    "\n",
    "tc.__dict__   # chekc the dict result self.name is now set tovalue passed while calling function by instance \n"
   ]
  },
  {
   "cell_type": "code",
   "execution_count": 115,
   "id": "laughing-traffic",
   "metadata": {},
   "outputs": [
    {
     "name": "stdout",
     "output_type": "stream",
     "text": [
      "This is test method\n",
      "this is test method1\n"
     ]
    }
   ],
   "source": [
    "# classes in python can be MONKEYPATCHED, means classes or objects in python can be updated runtime ex.we can add\n",
    "# new functions as well to the class because funcitons are just another attribute for the class and we can always \n",
    "# add new attributes to class runtime when we monkey patch that class, all of its existing instance receives that \n",
    "# update because instances refer to class by reference in memory.\n",
    "\n",
    "class MyClass:\n",
    "    \n",
    "    def test_method(self):\n",
    "        print(\"This is test method\")\n",
    "        \n",
    "        \n",
    "mc = MyClass()\n",
    "\n",
    "mc.test_method()\n",
    "\n",
    "# here we are monkey patching Class y adding a new function runtime\n",
    "MyClass.test_method1 = lambda self : print(\"this is test method1\")\n",
    "\n",
    "# existing instances can call new funciton because even if this function was not there at the time of instanciating class.\n",
    "# remember python always look for attributes in instance object and if not found it looks them into Class object.\n",
    "# thats the reason existing instace found new attribute (test_method1) in Class\n",
    "mc.test_method1()\n"
   ]
  },
  {
   "cell_type": "markdown",
   "id": "objective-option",
   "metadata": {},
   "source": [
    "## Instance Initialization "
   ]
  },
  {
   "cell_type": "code",
   "execution_count": 8,
   "id": "moral-dominant",
   "metadata": {},
   "outputs": [
    {
     "data": {
      "text/plain": [
       "{'name': 'Mulani'}"
      ]
     },
     "execution_count": 8,
     "metadata": {},
     "output_type": "execute_result"
    }
   ],
   "source": [
    "class MyClass():\n",
    "    def __init__(self, name):  # __init__ method is a normal menthod whihc just gets called automatially when we create\n",
    "        self.name = name       # instance of a class. Like a normal method 'self' or reference of a class instance is passed\n",
    "                               # automatically to the method. Since init method is acalled automatically it is ususllay\n",
    "                               # used to initialize variables for that instance. self.name = name signifies we are runtime\n",
    "                               # adding a new variable to class new object and assigning a value whihc is passed in param\n",
    "                               # while creating object         \n",
    "        \n",
    "mc= MyClass('Ashpak')\n",
    "\n",
    "mc.__dict__   \n",
    "\n",
    "# __init__ method is used ofter for initialization because it is called automatically while creating a class object \n",
    "# otherwize we cal use following approach as well whihc use non-dunder methis  is exactely same as __init__\n",
    "\n",
    "class MyClass1():\n",
    "    def init(self, name):\n",
    "        self.name = name\n",
    "        \n",
    "mc1 = MyClass1()  # not passing anything here because __init__ is not there whihc gets called automatically\n",
    "\n",
    "mc1.init('Mulani')  # calling our on non-dunder init to initialize variables manually\n",
    "\n",
    "mc1.__dict__\n"
   ]
  },
  {
   "cell_type": "markdown",
   "id": "certified-baghdad",
   "metadata": {},
   "source": [
    "## Adding a method to only single object runtime "
   ]
  },
  {
   "cell_type": "code",
   "execution_count": 13,
   "id": "satisfied-covering",
   "metadata": {
    "scrolled": true
   },
   "outputs": [
    {
     "data": {
      "text/plain": [
       "('Hello..!!!', function)"
      ]
     },
     "execution_count": 13,
     "metadata": {},
     "output_type": "execute_result"
    }
   ],
   "source": [
    "# as we have seen we can add attributes to objects runtime which are accessible to only that object. \n",
    "# On the same lines we can add methods (NOT Functions, we have seen diff between functions and methods) to only single class object \n",
    "\n",
    "class MyClass():\n",
    "    def __init__(self, name):\n",
    "        self.name =  name \n",
    "        \n",
    "        \n",
    "mc =  MyClass('Ashpak')\n",
    "\n",
    "# Now lest try to add a new function run-time to this object\n",
    "mc.say_hello = lambda : f\"Hello..!!!\" # assing a lambda function runtime to one attribute\n",
    "\n",
    "# we can now call this function only through this object. Notice one big difference here that type of this function is \n",
    "# normal 'function' and not a bound method as if we define inside a class whihc automatically accepts class instance\n",
    "# as first arg in 'self'.\n",
    "mc.say_hello(), type(mc.say_hello)\n"
   ]
  },
  {
   "cell_type": "code",
   "execution_count": 15,
   "id": "charming-cradle",
   "metadata": {},
   "outputs": [
    {
     "data": {
      "text/plain": [
       "'Hello...Ashpak'"
      ]
     },
     "execution_count": 15,
     "metadata": {},
     "output_type": "execute_result"
    }
   ],
   "source": [
    "# Bound methods helps accessing instance attributes inside them, so now we will see how to add bound method to objects runtime\n",
    "# rather than adding just a plain object \n",
    "\n",
    "class MyClass():\n",
    "    def __init__(self, name):\n",
    "        self.name =  name \n",
    "        \n",
    "        \n",
    "mc =  MyClass('Ashpak')\n",
    "\n",
    "from types import MethodType  # this built in library help creating bound methods and attaching them to objects runtime\n",
    "\n",
    "hello_func = lambda self : f\"Hello...{self.name}\" #storing a functin into variable whihc access instance variables \n",
    "\n",
    "say_hello = MethodType(hello_func, mc)  # create a bound method using MethodType function from 'types' library\n",
    "\n",
    "mc.say_hello = say_hello #assigning created bound method to one attribute of class object\n",
    "\n",
    "mc.say_hello() # calling attached method as if it is a normal class method. This method will be only available\n",
    "                # for 'mc' class instance\n"
   ]
  },
  {
   "cell_type": "markdown",
   "id": "integrated-replica",
   "metadata": {},
   "source": [
    "## Properties"
   ]
  },
  {
   "cell_type": "code",
   "execution_count": 1,
   "id": "narrow-bottom",
   "metadata": {},
   "outputs": [
    {
     "data": {
      "text/plain": [
       "'Mulani'"
      ]
     },
     "execution_count": 1,
     "metadata": {},
     "output_type": "execute_result"
    }
   ],
   "source": [
    "# As per other programming languages specially like JAVA, Python doesnt have private and public class properties/attributes\n",
    "# Python just have normal class properties that can be get and set directely as shown below.\n",
    "\n",
    "class MyClass():\n",
    "    \n",
    "    def __init__(self, name):\n",
    "        self.name =  name\n",
    "        \n",
    "\n",
    "mc =  MyClass('Ashpak') # writing name  attrbute while creating class object\n",
    "mc.name = 'Mulani'      # overriding name attribute directly \n",
    "mc.name\n"
   ]
  },
  {
   "cell_type": "markdown",
   "id": "thousand-hamburg",
   "metadata": {},
   "source": [
    "Above metioned approach of reading and writing class attributes are common in python, but major problem it introduce is \n",
    "class fucntions are processing this property and what is someone set this property incorrectely ? Ex. Function wants string and \n",
    "some developer set it to int...This is the main reason JAVA doesnt allow setting class peoperties directely.\n",
    "JAVA has concept of public and private class property, where from outside of class we can get and set only public properties\n",
    "and insode class we process private properties. These public properties are mapped to provate properties inside class, wrapped\n",
    "inside some validation logic to avoide any errors in class functions. So we are no more on the mercy of developer to set\n",
    "the correct value to class attributes for all functions to work properly.\n",
    "\n",
    "Python doesnt support public and provate class properties but in python as a general accepted convetion we can mimic it\n",
    "with mutual understanding within the community. In Python class property name starting with '_' is assumed as a private\n",
    "class property. Ex. if deveopers see '_name' as a class property then they wont set value to \"_name\"from outside of the class\n",
    "directely (even if it is possible because its a normal property) because they understand original coder is treating it as a\n",
    "privte property and he should have implemented getter and setter methods to massage input and output value to work everything\n",
    "as expected. So new developers will be always using getter and setter methods created by original dev to set value of '_name'\n",
    "\n",
    "###### In python it is recommended to not to start with Getter and setter method if we dont need validation, we should always start with bare normal attribute implementation"
   ]
  },
  {
   "cell_type": "code",
   "execution_count": 12,
   "id": "upset-express",
   "metadata": {},
   "outputs": [
    {
     "data": {
      "text/plain": [
       "('Mulani', {'_name': 'Mulani'})"
      ]
     },
     "execution_count": 12,
     "metadata": {},
     "output_type": "execute_result"
    }
   ],
   "source": [
    "class MyClass():\n",
    "    \n",
    "    def __init__(self, name):\n",
    "        self.set_name(name)   # when new object is created incoming anme value will be sent to a set_name function whihc \n",
    "                              # interrim will assign it to a new variable _name. only set_name is called in 'init'\n",
    "                              # because init is mainly to initiaize properties.\n",
    "            \n",
    "    def set_name(self, value):\n",
    "        self._name = value  # on the fly creating a _name property inside a calling class object and assiging a passed value\n",
    "                            # in name. This _name by convention will be considerd as private property now.\n",
    "        \n",
    "    def get_name(self):\n",
    "        return self._name     # if someone wants to read value of name they will have to call this function\n",
    "    \n",
    "mc  = MyClass('Ashpak')\n",
    "mc.set_name('Mulani')        # if we need to override new value to class property then we need to go through set_name method\n",
    "                             # technically mc._name = 'Mulani' is possible but devs wont do that because _name says its\n",
    "                             # a private peorpety and it should not be changed directely \n",
    "mc.get_name(), mc.__dict__\n",
    "# as shown in __dict__ output internally it is setting value if _name\n"
   ]
  },
  {
   "cell_type": "code",
   "execution_count": 13,
   "id": "boring-distribution",
   "metadata": {},
   "outputs": [
    {
     "ename": "ValueError",
     "evalue": "Only string values are accepted",
     "output_type": "error",
     "traceback": [
      "\u001b[1;31m---------------------------------------------------------------------------\u001b[0m",
      "\u001b[1;31mValueError\u001b[0m                                Traceback (most recent call last)",
      "\u001b[1;32m<ipython-input-13-009bd173b575>\u001b[0m in \u001b[0;36m<module>\u001b[1;34m\u001b[0m\n\u001b[0;32m     18\u001b[0m \u001b[1;33m\u001b[0m\u001b[0m\n\u001b[0;32m     19\u001b[0m \u001b[0mmc\u001b[0m  \u001b[1;33m=\u001b[0m \u001b[0mMyClass\u001b[0m\u001b[1;33m(\u001b[0m\u001b[1;34m'Ashpak'\u001b[0m\u001b[1;33m)\u001b[0m\u001b[1;33m\u001b[0m\u001b[1;33m\u001b[0m\u001b[0m\n\u001b[1;32m---> 20\u001b[1;33m \u001b[0mmc\u001b[0m\u001b[1;33m.\u001b[0m\u001b[0mset_name\u001b[0m\u001b[1;33m(\u001b[0m\u001b[1;36m10\u001b[0m\u001b[1;33m)\u001b[0m\u001b[1;33m\u001b[0m\u001b[1;33m\u001b[0m\u001b[0m\n\u001b[0m\u001b[0;32m     21\u001b[0m \u001b[0mmc\u001b[0m\u001b[1;33m.\u001b[0m\u001b[0mget_name\u001b[0m\u001b[1;33m(\u001b[0m\u001b[1;33m)\u001b[0m\u001b[1;33m\u001b[0m\u001b[1;33m\u001b[0m\u001b[0m\n",
      "\u001b[1;32m<ipython-input-13-009bd173b575>\u001b[0m in \u001b[0;36mset_name\u001b[1;34m(self, value)\u001b[0m\n\u001b[0;32m     12\u001b[0m             \u001b[0mself\u001b[0m\u001b[1;33m.\u001b[0m\u001b[0m_name\u001b[0m \u001b[1;33m=\u001b[0m \u001b[0mvalue\u001b[0m\u001b[1;33m.\u001b[0m\u001b[0mstrip\u001b[0m\u001b[1;33m(\u001b[0m\u001b[1;33m)\u001b[0m\u001b[1;33m\u001b[0m\u001b[1;33m\u001b[0m\u001b[0m\n\u001b[0;32m     13\u001b[0m         \u001b[1;32melse\u001b[0m\u001b[1;33m:\u001b[0m\u001b[1;33m\u001b[0m\u001b[1;33m\u001b[0m\u001b[0m\n\u001b[1;32m---> 14\u001b[1;33m             \u001b[1;32mraise\u001b[0m \u001b[0mValueError\u001b[0m\u001b[1;33m(\u001b[0m\u001b[1;34m\"Only string values are accepted\"\u001b[0m\u001b[1;33m)\u001b[0m \u001b[1;31m# raise error if input value is invalid\u001b[0m\u001b[1;33m\u001b[0m\u001b[1;33m\u001b[0m\u001b[0m\n\u001b[0m\u001b[0;32m     15\u001b[0m \u001b[1;33m\u001b[0m\u001b[0m\n\u001b[0;32m     16\u001b[0m     \u001b[1;32mdef\u001b[0m \u001b[0mget_name\u001b[0m\u001b[1;33m(\u001b[0m\u001b[0mself\u001b[0m\u001b[1;33m)\u001b[0m\u001b[1;33m:\u001b[0m\u001b[1;33m\u001b[0m\u001b[1;33m\u001b[0m\u001b[0m\n",
      "\u001b[1;31mValueError\u001b[0m: Only string values are accepted"
     ]
    }
   ],
   "source": [
    "# in pervious example we can add some validation to set_name() function to avoide invalid inputs or som logic to get_name()\n",
    "# function to format return value.\n",
    "\n",
    "\n",
    "class MyClass():\n",
    "    \n",
    "    def __init__(self, name):\n",
    "        self.set_name(name)   \n",
    "            \n",
    "    def set_name(self, value):\n",
    "        if isinstance(value, str) and len(value.strip()) > 0:\n",
    "            self._name = value.strip()\n",
    "        else:\n",
    "            raise ValueError(\"Only string values are accepted\") # raise error if input value is invalid\n",
    "        \n",
    "    def get_name(self):\n",
    "        return self._name     \n",
    "    \n",
    "mc  = MyClass('Ashpak')\n",
    "mc.set_name(10)        \n",
    "mc.get_name()\n"
   ]
  },
  {
   "cell_type": "code",
   "execution_count": 14,
   "id": "deluxe-cookbook",
   "metadata": {},
   "outputs": [
    {
     "data": {
      "text/plain": [
       "property"
      ]
     },
     "execution_count": 14,
     "metadata": {},
     "output_type": "execute_result"
    }
   ],
   "source": [
    "# In Above example using getter and setter funcitons for reading and writing a property is not easy to use and readable as well.\n",
    "# To make it easy to use and readable we can user Property funciton whihc return object of type property \n",
    "\n",
    "a = property()\n",
    "type(a)"
   ]
  },
  {
   "cell_type": "code",
   "execution_count": 15,
   "id": "fundamental-internet",
   "metadata": {},
   "outputs": [
    {
     "data": {
      "text/plain": [
       "'Mulani'"
      ]
     },
     "execution_count": 15,
     "metadata": {},
     "output_type": "execute_result"
    }
   ],
   "source": [
    "\n",
    "class MyClass():\n",
    "    \n",
    "    def __init__(self, name):\n",
    "        self._name = name   # replaces self.set_name(name)  from previous code because this example shows how to use getter\n",
    "                            # and setter easity using property(). If someone wants to send name while creating the\n",
    "                            # object the it should set it to _name variable at the time of initialization.\n",
    "            \n",
    "    def set_name(self, value):\n",
    "        if isinstance(value, str) and len(value.strip()) > 0:\n",
    "            self._name = value.strip()\n",
    "        else:\n",
    "            raise ValueError(\"Only string values are accepted\") # raise error if input value is invalid\n",
    "        \n",
    "    def get_name(self):\n",
    "        return self._name     \n",
    "    \n",
    "    name = property(fset=set_name, fget=get_name) # creating a class property of type 'property', whihc allows us to hook the\n",
    "                                                  # functions whihc gets called while getting and setting the property\n",
    "                                                  # using object\n",
    "    \n",
    "mc  = MyClass('Ashpak')\n",
    "mc.name = 'Mulani'    # since 'name' is now of type property inside class it can be used with getter and setter method normally\n",
    "                      # works with getattr('name') and setattr('name') as well.\n",
    "mc.name\n",
    "\n",
    "# here note we are using class property to set instance property"
   ]
  }
 ],
 "metadata": {
  "kernelspec": {
   "display_name": "Python 3",
   "language": "python",
   "name": "python3"
  },
  "language_info": {
   "codemirror_mode": {
    "name": "ipython",
    "version": 3
   },
   "file_extension": ".py",
   "mimetype": "text/x-python",
   "name": "python",
   "nbconvert_exporter": "python",
   "pygments_lexer": "ipython3",
   "version": "3.9.0"
  }
 },
 "nbformat": 4,
 "nbformat_minor": 5
}
